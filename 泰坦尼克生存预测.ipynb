{
 "cells": [
  {
   "cell_type": "markdown",
   "metadata": {},
   "source": [
    "# 泰坦尼克生存预测\n"
   ]
  },
  {
   "cell_type": "markdown",
   "metadata": {},
   "source": [
    "## 1、 数据加载"
   ]
  },
  {
   "cell_type": "code",
   "execution_count": 4,
   "metadata": {},
   "outputs": [],
   "source": [
    "import pandas as pd \n",
    "import numpy as np\n",
    "\n",
    "from sklearn.metrics import accuracy_score\n",
    "from sklearn.model_selection import cross_val_score\n",
    "\n",
    "from sklearn.metrics import confusion_matrix,accuracy_score,roc_curve, roc_auc_score\n",
    "\n",
    "import matplotlib.pyplot as plt\n",
    "import seaborn as sns\n",
    "\n"
   ]
  },
  {
   "cell_type": "code",
   "execution_count": 5,
   "metadata": {},
   "outputs": [],
   "source": [
    "data_train = pd.read_csv('train.csv')\n",
    "data_test = pd.read_csv('test.csv')"
   ]
  },
  {
   "cell_type": "code",
   "execution_count": 6,
   "metadata": {},
   "outputs": [],
   "source": [
    "data_all = pd.concat([data_train,data_test])"
   ]
  },
  {
   "cell_type": "markdown",
   "metadata": {},
   "source": [
    "## 2、 数据探索"
   ]
  },
  {
   "cell_type": "code",
   "execution_count": 7,
   "metadata": {},
   "outputs": [
    {
     "data": {
      "text/html": [
       "<div>\n",
       "<style scoped>\n",
       "    .dataframe tbody tr th:only-of-type {\n",
       "        vertical-align: middle;\n",
       "    }\n",
       "\n",
       "    .dataframe tbody tr th {\n",
       "        vertical-align: top;\n",
       "    }\n",
       "\n",
       "    .dataframe thead th {\n",
       "        text-align: right;\n",
       "    }\n",
       "</style>\n",
       "<table border=\"1\" class=\"dataframe\">\n",
       "  <thead>\n",
       "    <tr style=\"text-align: right;\">\n",
       "      <th></th>\n",
       "      <th>PassengerId</th>\n",
       "      <th>Survived</th>\n",
       "      <th>Pclass</th>\n",
       "      <th>Age</th>\n",
       "      <th>SibSp</th>\n",
       "      <th>Parch</th>\n",
       "      <th>Fare</th>\n",
       "    </tr>\n",
       "  </thead>\n",
       "  <tbody>\n",
       "    <tr>\n",
       "      <th>count</th>\n",
       "      <td>1309.000000</td>\n",
       "      <td>891.000000</td>\n",
       "      <td>1309.000000</td>\n",
       "      <td>1046.000000</td>\n",
       "      <td>1309.000000</td>\n",
       "      <td>1309.000000</td>\n",
       "      <td>1308.000000</td>\n",
       "    </tr>\n",
       "    <tr>\n",
       "      <th>mean</th>\n",
       "      <td>655.000000</td>\n",
       "      <td>0.383838</td>\n",
       "      <td>2.294882</td>\n",
       "      <td>29.881138</td>\n",
       "      <td>0.498854</td>\n",
       "      <td>0.385027</td>\n",
       "      <td>33.295479</td>\n",
       "    </tr>\n",
       "    <tr>\n",
       "      <th>std</th>\n",
       "      <td>378.020061</td>\n",
       "      <td>0.486592</td>\n",
       "      <td>0.837836</td>\n",
       "      <td>14.413493</td>\n",
       "      <td>1.041658</td>\n",
       "      <td>0.865560</td>\n",
       "      <td>51.758668</td>\n",
       "    </tr>\n",
       "    <tr>\n",
       "      <th>min</th>\n",
       "      <td>1.000000</td>\n",
       "      <td>0.000000</td>\n",
       "      <td>1.000000</td>\n",
       "      <td>0.170000</td>\n",
       "      <td>0.000000</td>\n",
       "      <td>0.000000</td>\n",
       "      <td>0.000000</td>\n",
       "    </tr>\n",
       "    <tr>\n",
       "      <th>25%</th>\n",
       "      <td>328.000000</td>\n",
       "      <td>0.000000</td>\n",
       "      <td>2.000000</td>\n",
       "      <td>21.000000</td>\n",
       "      <td>0.000000</td>\n",
       "      <td>0.000000</td>\n",
       "      <td>7.895800</td>\n",
       "    </tr>\n",
       "    <tr>\n",
       "      <th>50%</th>\n",
       "      <td>655.000000</td>\n",
       "      <td>0.000000</td>\n",
       "      <td>3.000000</td>\n",
       "      <td>28.000000</td>\n",
       "      <td>0.000000</td>\n",
       "      <td>0.000000</td>\n",
       "      <td>14.454200</td>\n",
       "    </tr>\n",
       "    <tr>\n",
       "      <th>75%</th>\n",
       "      <td>982.000000</td>\n",
       "      <td>1.000000</td>\n",
       "      <td>3.000000</td>\n",
       "      <td>39.000000</td>\n",
       "      <td>1.000000</td>\n",
       "      <td>0.000000</td>\n",
       "      <td>31.275000</td>\n",
       "    </tr>\n",
       "    <tr>\n",
       "      <th>max</th>\n",
       "      <td>1309.000000</td>\n",
       "      <td>1.000000</td>\n",
       "      <td>3.000000</td>\n",
       "      <td>80.000000</td>\n",
       "      <td>8.000000</td>\n",
       "      <td>9.000000</td>\n",
       "      <td>512.329200</td>\n",
       "    </tr>\n",
       "  </tbody>\n",
       "</table>\n",
       "</div>"
      ],
      "text/plain": [
       "       PassengerId    Survived       Pclass          Age        SibSp  \\\n",
       "count  1309.000000  891.000000  1309.000000  1046.000000  1309.000000   \n",
       "mean    655.000000    0.383838     2.294882    29.881138     0.498854   \n",
       "std     378.020061    0.486592     0.837836    14.413493     1.041658   \n",
       "min       1.000000    0.000000     1.000000     0.170000     0.000000   \n",
       "25%     328.000000    0.000000     2.000000    21.000000     0.000000   \n",
       "50%     655.000000    0.000000     3.000000    28.000000     0.000000   \n",
       "75%     982.000000    1.000000     3.000000    39.000000     1.000000   \n",
       "max    1309.000000    1.000000     3.000000    80.000000     8.000000   \n",
       "\n",
       "             Parch         Fare  \n",
       "count  1309.000000  1308.000000  \n",
       "mean      0.385027    33.295479  \n",
       "std       0.865560    51.758668  \n",
       "min       0.000000     0.000000  \n",
       "25%       0.000000     7.895800  \n",
       "50%       0.000000    14.454200  \n",
       "75%       0.000000    31.275000  \n",
       "max       9.000000   512.329200  "
      ]
     },
     "execution_count": 7,
     "metadata": {},
     "output_type": "execute_result"
    }
   ],
   "source": [
    "data_all.describe()"
   ]
  },
  {
   "cell_type": "code",
   "execution_count": 8,
   "metadata": {},
   "outputs": [
    {
     "data": {
      "text/html": [
       "<div>\n",
       "<style scoped>\n",
       "    .dataframe tbody tr th:only-of-type {\n",
       "        vertical-align: middle;\n",
       "    }\n",
       "\n",
       "    .dataframe tbody tr th {\n",
       "        vertical-align: top;\n",
       "    }\n",
       "\n",
       "    .dataframe thead th {\n",
       "        text-align: right;\n",
       "    }\n",
       "</style>\n",
       "<table border=\"1\" class=\"dataframe\">\n",
       "  <thead>\n",
       "    <tr style=\"text-align: right;\">\n",
       "      <th></th>\n",
       "      <th>Name</th>\n",
       "      <th>Sex</th>\n",
       "      <th>Ticket</th>\n",
       "      <th>Cabin</th>\n",
       "      <th>Embarked</th>\n",
       "    </tr>\n",
       "  </thead>\n",
       "  <tbody>\n",
       "    <tr>\n",
       "      <th>count</th>\n",
       "      <td>1309</td>\n",
       "      <td>1309</td>\n",
       "      <td>1309</td>\n",
       "      <td>295</td>\n",
       "      <td>1307</td>\n",
       "    </tr>\n",
       "    <tr>\n",
       "      <th>unique</th>\n",
       "      <td>1307</td>\n",
       "      <td>2</td>\n",
       "      <td>929</td>\n",
       "      <td>186</td>\n",
       "      <td>3</td>\n",
       "    </tr>\n",
       "    <tr>\n",
       "      <th>top</th>\n",
       "      <td>Kelly, Mr. James</td>\n",
       "      <td>male</td>\n",
       "      <td>CA. 2343</td>\n",
       "      <td>C23 C25 C27</td>\n",
       "      <td>S</td>\n",
       "    </tr>\n",
       "    <tr>\n",
       "      <th>freq</th>\n",
       "      <td>2</td>\n",
       "      <td>843</td>\n",
       "      <td>11</td>\n",
       "      <td>6</td>\n",
       "      <td>914</td>\n",
       "    </tr>\n",
       "  </tbody>\n",
       "</table>\n",
       "</div>"
      ],
      "text/plain": [
       "                    Name   Sex    Ticket        Cabin Embarked\n",
       "count               1309  1309      1309          295     1307\n",
       "unique              1307     2       929          186        3\n",
       "top     Kelly, Mr. James  male  CA. 2343  C23 C25 C27        S\n",
       "freq                   2   843        11            6      914"
      ]
     },
     "execution_count": 8,
     "metadata": {},
     "output_type": "execute_result"
    }
   ],
   "source": [
    "data_all.describe(include=['O'])"
   ]
  },
  {
   "cell_type": "code",
   "execution_count": 9,
   "metadata": {},
   "outputs": [
    {
     "data": {
      "text/html": [
       "<div>\n",
       "<style scoped>\n",
       "    .dataframe tbody tr th:only-of-type {\n",
       "        vertical-align: middle;\n",
       "    }\n",
       "\n",
       "    .dataframe tbody tr th {\n",
       "        vertical-align: top;\n",
       "    }\n",
       "\n",
       "    .dataframe thead th {\n",
       "        text-align: right;\n",
       "    }\n",
       "</style>\n",
       "<table border=\"1\" class=\"dataframe\">\n",
       "  <thead>\n",
       "    <tr style=\"text-align: right;\">\n",
       "      <th></th>\n",
       "      <th>PassengerId</th>\n",
       "      <th>Survived</th>\n",
       "      <th>Pclass</th>\n",
       "      <th>Name</th>\n",
       "      <th>Sex</th>\n",
       "      <th>Age</th>\n",
       "      <th>SibSp</th>\n",
       "      <th>Parch</th>\n",
       "      <th>Ticket</th>\n",
       "      <th>Fare</th>\n",
       "      <th>Cabin</th>\n",
       "      <th>Embarked</th>\n",
       "    </tr>\n",
       "  </thead>\n",
       "  <tbody>\n",
       "    <tr>\n",
       "      <th>0</th>\n",
       "      <td>1</td>\n",
       "      <td>0.0</td>\n",
       "      <td>3</td>\n",
       "      <td>Braund, Mr. Owen Harris</td>\n",
       "      <td>male</td>\n",
       "      <td>22.0</td>\n",
       "      <td>1</td>\n",
       "      <td>0</td>\n",
       "      <td>A/5 21171</td>\n",
       "      <td>7.2500</td>\n",
       "      <td>NaN</td>\n",
       "      <td>S</td>\n",
       "    </tr>\n",
       "    <tr>\n",
       "      <th>1</th>\n",
       "      <td>2</td>\n",
       "      <td>1.0</td>\n",
       "      <td>1</td>\n",
       "      <td>Cumings, Mrs. John Bradley (Florence Briggs Th...</td>\n",
       "      <td>female</td>\n",
       "      <td>38.0</td>\n",
       "      <td>1</td>\n",
       "      <td>0</td>\n",
       "      <td>PC 17599</td>\n",
       "      <td>71.2833</td>\n",
       "      <td>C85</td>\n",
       "      <td>C</td>\n",
       "    </tr>\n",
       "    <tr>\n",
       "      <th>2</th>\n",
       "      <td>3</td>\n",
       "      <td>1.0</td>\n",
       "      <td>3</td>\n",
       "      <td>Heikkinen, Miss. Laina</td>\n",
       "      <td>female</td>\n",
       "      <td>26.0</td>\n",
       "      <td>0</td>\n",
       "      <td>0</td>\n",
       "      <td>STON/O2. 3101282</td>\n",
       "      <td>7.9250</td>\n",
       "      <td>NaN</td>\n",
       "      <td>S</td>\n",
       "    </tr>\n",
       "    <tr>\n",
       "      <th>3</th>\n",
       "      <td>4</td>\n",
       "      <td>1.0</td>\n",
       "      <td>1</td>\n",
       "      <td>Futrelle, Mrs. Jacques Heath (Lily May Peel)</td>\n",
       "      <td>female</td>\n",
       "      <td>35.0</td>\n",
       "      <td>1</td>\n",
       "      <td>0</td>\n",
       "      <td>113803</td>\n",
       "      <td>53.1000</td>\n",
       "      <td>C123</td>\n",
       "      <td>S</td>\n",
       "    </tr>\n",
       "    <tr>\n",
       "      <th>4</th>\n",
       "      <td>5</td>\n",
       "      <td>0.0</td>\n",
       "      <td>3</td>\n",
       "      <td>Allen, Mr. William Henry</td>\n",
       "      <td>male</td>\n",
       "      <td>35.0</td>\n",
       "      <td>0</td>\n",
       "      <td>0</td>\n",
       "      <td>373450</td>\n",
       "      <td>8.0500</td>\n",
       "      <td>NaN</td>\n",
       "      <td>S</td>\n",
       "    </tr>\n",
       "  </tbody>\n",
       "</table>\n",
       "</div>"
      ],
      "text/plain": [
       "   PassengerId  Survived  Pclass  \\\n",
       "0            1       0.0       3   \n",
       "1            2       1.0       1   \n",
       "2            3       1.0       3   \n",
       "3            4       1.0       1   \n",
       "4            5       0.0       3   \n",
       "\n",
       "                                                Name     Sex   Age  SibSp  \\\n",
       "0                            Braund, Mr. Owen Harris    male  22.0      1   \n",
       "1  Cumings, Mrs. John Bradley (Florence Briggs Th...  female  38.0      1   \n",
       "2                             Heikkinen, Miss. Laina  female  26.0      0   \n",
       "3       Futrelle, Mrs. Jacques Heath (Lily May Peel)  female  35.0      1   \n",
       "4                           Allen, Mr. William Henry    male  35.0      0   \n",
       "\n",
       "   Parch            Ticket     Fare Cabin Embarked  \n",
       "0      0         A/5 21171   7.2500   NaN        S  \n",
       "1      0          PC 17599  71.2833   C85        C  \n",
       "2      0  STON/O2. 3101282   7.9250   NaN        S  \n",
       "3      0            113803  53.1000  C123        S  \n",
       "4      0            373450   8.0500   NaN        S  "
      ]
     },
     "execution_count": 9,
     "metadata": {},
     "output_type": "execute_result"
    }
   ],
   "source": [
    "data_all.head()"
   ]
  },
  {
   "cell_type": "code",
   "execution_count": 10,
   "metadata": {},
   "outputs": [
    {
     "data": {
      "text/plain": [
       "PassengerId       0\n",
       "Survived        418\n",
       "Pclass            0\n",
       "Name              0\n",
       "Sex               0\n",
       "Age             263\n",
       "SibSp             0\n",
       "Parch             0\n",
       "Ticket            0\n",
       "Fare              1\n",
       "Cabin          1014\n",
       "Embarked          2\n",
       "dtype: int64"
      ]
     },
     "execution_count": 10,
     "metadata": {},
     "output_type": "execute_result"
    }
   ],
   "source": [
    "data_all.isnull().sum()"
   ]
  },
  {
   "cell_type": "code",
   "execution_count": 11,
   "metadata": {},
   "outputs": [
    {
     "data": {
      "text/html": [
       "<div>\n",
       "<style scoped>\n",
       "    .dataframe tbody tr th:only-of-type {\n",
       "        vertical-align: middle;\n",
       "    }\n",
       "\n",
       "    .dataframe tbody tr th {\n",
       "        vertical-align: top;\n",
       "    }\n",
       "\n",
       "    .dataframe thead th {\n",
       "        text-align: right;\n",
       "    }\n",
       "</style>\n",
       "<table border=\"1\" class=\"dataframe\">\n",
       "  <thead>\n",
       "    <tr style=\"text-align: right;\">\n",
       "      <th></th>\n",
       "      <th>PassengerId</th>\n",
       "      <th>Survived</th>\n",
       "      <th>Pclass</th>\n",
       "      <th>Age</th>\n",
       "      <th>SibSp</th>\n",
       "      <th>Parch</th>\n",
       "      <th>Fare</th>\n",
       "    </tr>\n",
       "  </thead>\n",
       "  <tbody>\n",
       "    <tr>\n",
       "      <th>count</th>\n",
       "      <td>891.000000</td>\n",
       "      <td>891.000000</td>\n",
       "      <td>891.000000</td>\n",
       "      <td>714.000000</td>\n",
       "      <td>891.000000</td>\n",
       "      <td>891.000000</td>\n",
       "      <td>891.000000</td>\n",
       "    </tr>\n",
       "    <tr>\n",
       "      <th>mean</th>\n",
       "      <td>446.000000</td>\n",
       "      <td>0.383838</td>\n",
       "      <td>2.308642</td>\n",
       "      <td>29.699118</td>\n",
       "      <td>0.523008</td>\n",
       "      <td>0.381594</td>\n",
       "      <td>32.204208</td>\n",
       "    </tr>\n",
       "    <tr>\n",
       "      <th>std</th>\n",
       "      <td>257.353842</td>\n",
       "      <td>0.486592</td>\n",
       "      <td>0.836071</td>\n",
       "      <td>14.526497</td>\n",
       "      <td>1.102743</td>\n",
       "      <td>0.806057</td>\n",
       "      <td>49.693429</td>\n",
       "    </tr>\n",
       "    <tr>\n",
       "      <th>min</th>\n",
       "      <td>1.000000</td>\n",
       "      <td>0.000000</td>\n",
       "      <td>1.000000</td>\n",
       "      <td>0.420000</td>\n",
       "      <td>0.000000</td>\n",
       "      <td>0.000000</td>\n",
       "      <td>0.000000</td>\n",
       "    </tr>\n",
       "    <tr>\n",
       "      <th>25%</th>\n",
       "      <td>223.500000</td>\n",
       "      <td>0.000000</td>\n",
       "      <td>2.000000</td>\n",
       "      <td>20.125000</td>\n",
       "      <td>0.000000</td>\n",
       "      <td>0.000000</td>\n",
       "      <td>7.910400</td>\n",
       "    </tr>\n",
       "    <tr>\n",
       "      <th>50%</th>\n",
       "      <td>446.000000</td>\n",
       "      <td>0.000000</td>\n",
       "      <td>3.000000</td>\n",
       "      <td>28.000000</td>\n",
       "      <td>0.000000</td>\n",
       "      <td>0.000000</td>\n",
       "      <td>14.454200</td>\n",
       "    </tr>\n",
       "    <tr>\n",
       "      <th>75%</th>\n",
       "      <td>668.500000</td>\n",
       "      <td>1.000000</td>\n",
       "      <td>3.000000</td>\n",
       "      <td>38.000000</td>\n",
       "      <td>1.000000</td>\n",
       "      <td>0.000000</td>\n",
       "      <td>31.000000</td>\n",
       "    </tr>\n",
       "    <tr>\n",
       "      <th>max</th>\n",
       "      <td>891.000000</td>\n",
       "      <td>1.000000</td>\n",
       "      <td>3.000000</td>\n",
       "      <td>80.000000</td>\n",
       "      <td>8.000000</td>\n",
       "      <td>6.000000</td>\n",
       "      <td>512.329200</td>\n",
       "    </tr>\n",
       "  </tbody>\n",
       "</table>\n",
       "</div>"
      ],
      "text/plain": [
       "       PassengerId    Survived      Pclass         Age       SibSp  \\\n",
       "count   891.000000  891.000000  891.000000  714.000000  891.000000   \n",
       "mean    446.000000    0.383838    2.308642   29.699118    0.523008   \n",
       "std     257.353842    0.486592    0.836071   14.526497    1.102743   \n",
       "min       1.000000    0.000000    1.000000    0.420000    0.000000   \n",
       "25%     223.500000    0.000000    2.000000   20.125000    0.000000   \n",
       "50%     446.000000    0.000000    3.000000   28.000000    0.000000   \n",
       "75%     668.500000    1.000000    3.000000   38.000000    1.000000   \n",
       "max     891.000000    1.000000    3.000000   80.000000    8.000000   \n",
       "\n",
       "            Parch        Fare  \n",
       "count  891.000000  891.000000  \n",
       "mean     0.381594   32.204208  \n",
       "std      0.806057   49.693429  \n",
       "min      0.000000    0.000000  \n",
       "25%      0.000000    7.910400  \n",
       "50%      0.000000   14.454200  \n",
       "75%      0.000000   31.000000  \n",
       "max      6.000000  512.329200  "
      ]
     },
     "execution_count": 11,
     "metadata": {},
     "output_type": "execute_result"
    }
   ],
   "source": [
    "data_train.describe()"
   ]
  },
  {
   "cell_type": "code",
   "execution_count": 12,
   "metadata": {},
   "outputs": [
    {
     "data": {
      "text/html": [
       "<div>\n",
       "<style scoped>\n",
       "    .dataframe tbody tr th:only-of-type {\n",
       "        vertical-align: middle;\n",
       "    }\n",
       "\n",
       "    .dataframe tbody tr th {\n",
       "        vertical-align: top;\n",
       "    }\n",
       "\n",
       "    .dataframe thead th {\n",
       "        text-align: right;\n",
       "    }\n",
       "</style>\n",
       "<table border=\"1\" class=\"dataframe\">\n",
       "  <thead>\n",
       "    <tr style=\"text-align: right;\">\n",
       "      <th></th>\n",
       "      <th>Name</th>\n",
       "      <th>Sex</th>\n",
       "      <th>Ticket</th>\n",
       "      <th>Cabin</th>\n",
       "      <th>Embarked</th>\n",
       "    </tr>\n",
       "  </thead>\n",
       "  <tbody>\n",
       "    <tr>\n",
       "      <th>count</th>\n",
       "      <td>891</td>\n",
       "      <td>891</td>\n",
       "      <td>891</td>\n",
       "      <td>204</td>\n",
       "      <td>889</td>\n",
       "    </tr>\n",
       "    <tr>\n",
       "      <th>unique</th>\n",
       "      <td>891</td>\n",
       "      <td>2</td>\n",
       "      <td>681</td>\n",
       "      <td>147</td>\n",
       "      <td>3</td>\n",
       "    </tr>\n",
       "    <tr>\n",
       "      <th>top</th>\n",
       "      <td>Sadlier, Mr. Matthew</td>\n",
       "      <td>male</td>\n",
       "      <td>347082</td>\n",
       "      <td>B96 B98</td>\n",
       "      <td>S</td>\n",
       "    </tr>\n",
       "    <tr>\n",
       "      <th>freq</th>\n",
       "      <td>1</td>\n",
       "      <td>577</td>\n",
       "      <td>7</td>\n",
       "      <td>4</td>\n",
       "      <td>644</td>\n",
       "    </tr>\n",
       "  </tbody>\n",
       "</table>\n",
       "</div>"
      ],
      "text/plain": [
       "                        Name   Sex  Ticket    Cabin Embarked\n",
       "count                    891   891     891      204      889\n",
       "unique                   891     2     681      147        3\n",
       "top     Sadlier, Mr. Matthew  male  347082  B96 B98        S\n",
       "freq                       1   577       7        4      644"
      ]
     },
     "execution_count": 12,
     "metadata": {},
     "output_type": "execute_result"
    }
   ],
   "source": [
    "data_train.describe(include=['O'])"
   ]
  },
  {
   "cell_type": "code",
   "execution_count": 13,
   "metadata": {},
   "outputs": [
    {
     "name": "stdout",
     "output_type": "stream",
     "text": [
      "<class 'pandas.core.frame.DataFrame'>\n",
      "RangeIndex: 891 entries, 0 to 890\n",
      "Data columns (total 12 columns):\n",
      " #   Column       Non-Null Count  Dtype  \n",
      "---  ------       --------------  -----  \n",
      " 0   PassengerId  891 non-null    int64  \n",
      " 1   Survived     891 non-null    int64  \n",
      " 2   Pclass       891 non-null    int64  \n",
      " 3   Name         891 non-null    object \n",
      " 4   Sex          891 non-null    object \n",
      " 5   Age          714 non-null    float64\n",
      " 6   SibSp        891 non-null    int64  \n",
      " 7   Parch        891 non-null    int64  \n",
      " 8   Ticket       891 non-null    object \n",
      " 9   Fare         891 non-null    float64\n",
      " 10  Cabin        204 non-null    object \n",
      " 11  Embarked     889 non-null    object \n",
      "dtypes: float64(2), int64(5), object(5)\n",
      "memory usage: 83.7+ KB\n"
     ]
    }
   ],
   "source": [
    "data_train.info()"
   ]
  },
  {
   "cell_type": "code",
   "execution_count": 14,
   "metadata": {},
   "outputs": [
    {
     "data": {
      "text/plain": [
       "PassengerId      0\n",
       "Survived         0\n",
       "Pclass           0\n",
       "Name             0\n",
       "Sex              0\n",
       "Age            177\n",
       "SibSp            0\n",
       "Parch            0\n",
       "Ticket           0\n",
       "Fare             0\n",
       "Cabin          687\n",
       "Embarked         2\n",
       "dtype: int64"
      ]
     },
     "execution_count": 14,
     "metadata": {},
     "output_type": "execute_result"
    }
   ],
   "source": [
    "data_train.isnull().sum()"
   ]
  },
  {
   "cell_type": "code",
   "execution_count": 15,
   "metadata": {},
   "outputs": [
    {
     "data": {
      "text/html": [
       "<div>\n",
       "<style scoped>\n",
       "    .dataframe tbody tr th:only-of-type {\n",
       "        vertical-align: middle;\n",
       "    }\n",
       "\n",
       "    .dataframe tbody tr th {\n",
       "        vertical-align: top;\n",
       "    }\n",
       "\n",
       "    .dataframe thead th {\n",
       "        text-align: right;\n",
       "    }\n",
       "</style>\n",
       "<table border=\"1\" class=\"dataframe\">\n",
       "  <thead>\n",
       "    <tr style=\"text-align: right;\">\n",
       "      <th></th>\n",
       "      <th>PassengerId</th>\n",
       "      <th>Survived</th>\n",
       "      <th>Pclass</th>\n",
       "      <th>Name</th>\n",
       "      <th>Sex</th>\n",
       "      <th>Age</th>\n",
       "      <th>SibSp</th>\n",
       "      <th>Parch</th>\n",
       "      <th>Ticket</th>\n",
       "      <th>Fare</th>\n",
       "      <th>Cabin</th>\n",
       "      <th>Embarked</th>\n",
       "    </tr>\n",
       "  </thead>\n",
       "  <tbody>\n",
       "    <tr>\n",
       "      <th>61</th>\n",
       "      <td>62</td>\n",
       "      <td>1</td>\n",
       "      <td>1</td>\n",
       "      <td>Icard, Miss. Amelie</td>\n",
       "      <td>female</td>\n",
       "      <td>38.0</td>\n",
       "      <td>0</td>\n",
       "      <td>0</td>\n",
       "      <td>113572</td>\n",
       "      <td>80.0</td>\n",
       "      <td>B28</td>\n",
       "      <td>NaN</td>\n",
       "    </tr>\n",
       "    <tr>\n",
       "      <th>829</th>\n",
       "      <td>830</td>\n",
       "      <td>1</td>\n",
       "      <td>1</td>\n",
       "      <td>Stone, Mrs. George Nelson (Martha Evelyn)</td>\n",
       "      <td>female</td>\n",
       "      <td>62.0</td>\n",
       "      <td>0</td>\n",
       "      <td>0</td>\n",
       "      <td>113572</td>\n",
       "      <td>80.0</td>\n",
       "      <td>B28</td>\n",
       "      <td>NaN</td>\n",
       "    </tr>\n",
       "  </tbody>\n",
       "</table>\n",
       "</div>"
      ],
      "text/plain": [
       "     PassengerId  Survived  Pclass                                       Name  \\\n",
       "61            62         1       1                        Icard, Miss. Amelie   \n",
       "829          830         1       1  Stone, Mrs. George Nelson (Martha Evelyn)   \n",
       "\n",
       "        Sex   Age  SibSp  Parch  Ticket  Fare Cabin Embarked  \n",
       "61   female  38.0      0      0  113572  80.0   B28      NaN  \n",
       "829  female  62.0      0      0  113572  80.0   B28      NaN  "
      ]
     },
     "execution_count": 15,
     "metadata": {},
     "output_type": "execute_result"
    }
   ],
   "source": [
    "data_train[data_train['Embarked'].isnull()]"
   ]
  },
  {
   "cell_type": "code",
   "execution_count": 16,
   "metadata": {},
   "outputs": [
    {
     "data": {
      "text/html": [
       "<div>\n",
       "<style scoped>\n",
       "    .dataframe tbody tr th:only-of-type {\n",
       "        vertical-align: middle;\n",
       "    }\n",
       "\n",
       "    .dataframe tbody tr th {\n",
       "        vertical-align: top;\n",
       "    }\n",
       "\n",
       "    .dataframe thead th {\n",
       "        text-align: right;\n",
       "    }\n",
       "</style>\n",
       "<table border=\"1\" class=\"dataframe\">\n",
       "  <thead>\n",
       "    <tr style=\"text-align: right;\">\n",
       "      <th></th>\n",
       "      <th>PassengerId</th>\n",
       "      <th>Pclass</th>\n",
       "      <th>Name</th>\n",
       "      <th>Sex</th>\n",
       "      <th>Age</th>\n",
       "      <th>SibSp</th>\n",
       "      <th>Parch</th>\n",
       "      <th>Ticket</th>\n",
       "      <th>Fare</th>\n",
       "      <th>Cabin</th>\n",
       "      <th>Embarked</th>\n",
       "    </tr>\n",
       "  </thead>\n",
       "  <tbody>\n",
       "    <tr>\n",
       "      <th>152</th>\n",
       "      <td>1044</td>\n",
       "      <td>3</td>\n",
       "      <td>Storey, Mr. Thomas</td>\n",
       "      <td>male</td>\n",
       "      <td>60.5</td>\n",
       "      <td>0</td>\n",
       "      <td>0</td>\n",
       "      <td>3701</td>\n",
       "      <td>NaN</td>\n",
       "      <td>NaN</td>\n",
       "      <td>S</td>\n",
       "    </tr>\n",
       "  </tbody>\n",
       "</table>\n",
       "</div>"
      ],
      "text/plain": [
       "     PassengerId  Pclass                Name   Sex   Age  SibSp  Parch Ticket  \\\n",
       "152         1044       3  Storey, Mr. Thomas  male  60.5      0      0   3701   \n",
       "\n",
       "     Fare Cabin Embarked  \n",
       "152   NaN   NaN        S  "
      ]
     },
     "execution_count": 16,
     "metadata": {},
     "output_type": "execute_result"
    }
   ],
   "source": [
    "data_test[data_test['Fare'].isnull()]"
   ]
  },
  {
   "cell_type": "markdown",
   "metadata": {},
   "source": [
    "### 探索各字段与生存结果的关系"
   ]
  },
  {
   "cell_type": "markdown",
   "metadata": {},
   "source": [
    "#### Pclass"
   ]
  },
  {
   "cell_type": "code",
   "execution_count": 17,
   "metadata": {},
   "outputs": [
    {
     "data": {
      "image/png": "[encoded data removed]",
      "text/plain": [
       "<Figure size 432x288 with 1 Axes>"
      ]
     },
     "metadata": {},
     "output_type": "display_data"
    }
   ],
   "source": [
    "plt.rcParams['font.sans-serif'] = ['SimHei']\n",
    "\n",
    "fig = plt.figure()\n",
    "ax = fig.add_subplot()\n",
    "\n",
    "data_gb_pclass = data_train.groupby('Pclass')\n",
    "\n",
    "ax.bar(x= data_gb_pclass.count().index,height=data_gb_pclass.count()['Survived'],label='0')\n",
    "ax.bar(x= data_gb_pclass.count().index,height=data_gb_pclass.sum()['Survived'],label = '1')\n",
    "\n",
    "\n",
    "plt.legend()\n",
    "plt.show()"
   ]
  },
  {
   "cell_type": "markdown",
   "metadata": {},
   "source": [
    "#### Sex"
   ]
  },
  {
   "cell_type": "code",
   "execution_count": 18,
   "metadata": {},
   "outputs": [
    {
     "data": {
      "image/png": "[encoded data removed]",
      "text/plain": [
       "<Figure size 432x288 with 1 Axes>"
      ]
     },
     "metadata": {},
     "output_type": "display_data"
    }
   ],
   "source": [
    "fig = plt.figure()\n",
    "ax = fig.add_subplot()\n",
    "\n",
    "data_gb_sex = data_train.groupby('Sex')\n",
    "\n",
    "ax.bar(x= data_gb_sex.count().index,height=data_gb_sex.count()['Survived'],label='0')\n",
    "ax.bar(x= data_gb_sex.count().index,height=data_gb_sex.sum()['Survived'],label = '1')\n",
    "\n",
    "\n",
    "plt.legend()\n",
    "plt.show()"
   ]
  },
  {
   "cell_type": "markdown",
   "metadata": {},
   "source": [
    "女性的生存率比男性高"
   ]
  },
  {
   "cell_type": "markdown",
   "metadata": {},
   "source": [
    "#### Age"
   ]
  },
  {
   "cell_type": "code",
   "execution_count": 19,
   "metadata": {},
   "outputs": [
    {
     "data": {
      "image/png": "[encoded data removed]",
      "text/plain": [
       "<Figure size 432x288 with 2 Axes>"
      ]
     },
     "metadata": {},
     "output_type": "display_data"
    }
   ],
   "source": [
    "# fig = plt.figure()\n",
    "# ax = fig.add_subplot()\n",
    "fig,ax=plt.subplots()\n",
    "# data_gb_age = data_train[~data_train['Age'].isnull()].groupby('Age')\n",
    "# data_gb_age = data_train.groupby('Age')\n",
    "\n",
    "data_train_1 = data_train.copy()\n",
    "data_train_1['group'] = pd.cut(data_train_1['Age'].sort_values(),range(0,85,5),labels=[x+2.5 for x in range(0,80,5)])\n",
    "\n",
    "\n",
    "ax1 = ax.twinx() \n",
    "ax.hist(x=data_train['Age'],\n",
    "        bins= 16,\n",
    "#         range=[0,data_train['Age'].max()],\n",
    "        label = 0)\n",
    "ax.hist(x=data_train[data_train['Survived']==1]['Age'],\n",
    "        bins= 16,\n",
    "#         range=[0,data_train['Age'].max()],\n",
    "        label = 1)\n",
    "\n",
    "\n",
    "\n",
    "d = data_train_1.groupby(['group'])['Survived'].sum()/data_train_1.groupby(['group'])['Survived'].count()\n",
    "ax1.plot(d.index,\n",
    "        d,label= '存活率',color = 'red')\n",
    "\n",
    "ax.legend()\n",
    "ax1.legend()\n",
    "\n",
    "plt.show()"
   ]
  },
  {
   "cell_type": "markdown",
   "metadata": {},
   "source": [
    "以年龄来看，小于5岁的孩子生存率非常高"
   ]
  },
  {
   "cell_type": "markdown",
   "metadata": {},
   "source": [
    "#### SibSp Parch  兄弟姐妹和父母孩子数量"
   ]
  },
  {
   "cell_type": "code",
   "execution_count": 20,
   "metadata": {
    "scrolled": true
   },
   "outputs": [
    {
     "data": {
      "image/png": "[encoded data removed]",
      "text/plain": [
       "<Figure size 432x288 with 2 Axes>"
      ]
     },
     "metadata": {},
     "output_type": "display_data"
    }
   ],
   "source": [
    "# fig = plt.figure()\n",
    "# ax = fig.add_subplot()\n",
    "fig,ax=plt.subplots()\n",
    "# data_gb_age = data_train[~data_train['Age'].isnull()].groupby('Age')\n",
    "data_gb_sibsp = data_train.groupby('SibSp')\n",
    "\n",
    "ax1 = ax.twinx()\n",
    "ax.bar(x=data_gb_sibsp.count().index,height=data_gb_sibsp.count()['Survived'],\n",
    "        label = 0)\n",
    "ax.bar(x=data_gb_sibsp.count().index,height=data_gb_sibsp.sum()['Survived'],\n",
    "        label = 1)\n",
    "\n",
    "ax1.plot(data_gb_sibsp.count().index,data_gb_sibsp.sum()['Survived']/data_gb_sibsp.count()['Survived'],color = 'red' ,label = '生存率')\n",
    "\n",
    "ax.legend()\n",
    "ax1.legend(loc='upper center')\n",
    "\n",
    "plt.show()"
   ]
  },
  {
   "cell_type": "code",
   "execution_count": 21,
   "metadata": {},
   "outputs": [
    {
     "data": {
      "image/png": "[encoded data removed]",
      "text/plain": [
       "<Figure size 432x288 with 2 Axes>"
      ]
     },
     "metadata": {},
     "output_type": "display_data"
    }
   ],
   "source": [
    "# fig = plt.figure()\n",
    "# ax = fig.add_subplot()\n",
    "fig,ax=plt.subplots()\n",
    "\n",
    "data_gb_parch = data_train.groupby('Parch')\n",
    "\n",
    "ax1 = ax.twinx()\n",
    "ax.bar(x=data_gb_parch.count().index,height=data_gb_parch.count()['Survived'],\n",
    "        label = 0)\n",
    "ax.bar(x=data_gb_parch.count().index,height=data_gb_parch.sum()['Survived'],\n",
    "        label = 1)\n",
    "\n",
    "ax1.plot(data_gb_parch.count().index,data_gb_parch.sum()['Survived']/data_gb_parch.count()['Survived'],color = 'red' ,label = '生存率')\n",
    "\n",
    "ax.legend()\n",
    "ax1.legend(loc='upper center')\n",
    "\n",
    "plt.show()"
   ]
  },
  {
   "cell_type": "code",
   "execution_count": 22,
   "metadata": {},
   "outputs": [],
   "source": [
    "data_train['_family_numbers'] = data_train.SibSp + data_train.Parch\n",
    "data_test['_family_numbers'] = data_test.SibSp + data_test.Parch"
   ]
  },
  {
   "cell_type": "code",
   "execution_count": 23,
   "metadata": {},
   "outputs": [
    {
     "data": {
      "image/png": "[encoded data removed]",
      "text/plain": [
       "<Figure size 432x288 with 2 Axes>"
      ]
     },
     "metadata": {},
     "output_type": "display_data"
    }
   ],
   "source": [
    "# fig = plt.figure()\n",
    "# ax = fig.add_subplot()\n",
    "fig,ax=plt.subplots()\n",
    "\n",
    "data_gb_family_numbers = data_train.groupby('_family_numbers')\n",
    "\n",
    "ax1 = ax.twinx()\n",
    "ax.bar(x=data_gb_family_numbers.count().index,height=data_gb_family_numbers.count()['Survived'],\n",
    "        label = 0)\n",
    "ax.bar(x=data_gb_family_numbers.count().index,height=data_gb_family_numbers.sum()['Survived'],\n",
    "        label = 1)\n",
    "\n",
    "ax1.plot(data_gb_family_numbers.count().index,data_gb_family_numbers.sum()['Survived']/data_gb_family_numbers.count()['Survived'],color = 'red' ,label = '生存率')\n",
    "\n",
    "ax.legend()\n",
    "ax1.legend(loc='upper center')\n",
    "\n",
    "plt.show()"
   ]
  },
  {
   "cell_type": "code",
   "execution_count": 24,
   "metadata": {},
   "outputs": [
    {
     "data": {
      "image/png": "[encoded data removed]",
      "text/plain": [
       "<Figure size 432x288 with 2 Axes>"
      ]
     },
     "metadata": {},
     "output_type": "display_data"
    }
   ],
   "source": [
    "\n",
    "fig,ax=plt.subplots()\n",
    "\n",
    "data_train_2 = data_train.copy()\n",
    "data_train_2['group'] = pd.cut(data_train_2['Fare'].sort_values(),range(0,550,25),labels=[x+12.5 for x in range(0,525,25)])\n",
    "\n",
    "\n",
    "ax1 = ax.twinx() \n",
    "ax.hist(x=data_train['Fare'],\n",
    "        bins= 22,\n",
    "        label = 0)\n",
    "ax.hist(x=data_train[data_train['Survived']==1]['Fare'],\n",
    "        bins= 22,\n",
    "        label = 1)\n",
    "\n",
    "\n",
    "\n",
    "d = data_train_2.groupby(['group'])['Survived'].sum()/data_train_2.groupby(['group'])['Survived'].count()\n",
    "ax1.plot(d.index,\n",
    "        d,label= '存活率',color = 'red')\n",
    "\n",
    "ax.legend()\n",
    "ax1.legend()\n",
    "\n",
    "plt.show()"
   ]
  },
  {
   "cell_type": "markdown",
   "metadata": {},
   "source": [
    "高价格船票的人存活率普遍比较高"
   ]
  },
  {
   "cell_type": "code",
   "execution_count": 25,
   "metadata": {},
   "outputs": [
    {
     "data": {
      "image/png": "[encoded data removed]",
      "text/plain": [
       "<Figure size 432x288 with 2 Axes>"
      ]
     },
     "metadata": {},
     "output_type": "display_data"
    }
   ],
   "source": [
    "\n",
    "fig,ax=plt.subplots()\n",
    "\n",
    "data_gb_embarked = data_train.groupby('Embarked')\n",
    "\n",
    "ax1 = ax.twinx()\n",
    "ax.bar(x=data_gb_embarked.count().index,height=data_gb_embarked.count()['Survived'],\n",
    "        label = 0)\n",
    "ax.bar(x=data_gb_embarked.count().index,height=data_gb_embarked.sum()['Survived'],\n",
    "        label = 1)\n",
    "\n",
    "ax1.plot(data_gb_embarked.count().index,data_gb_embarked.sum()['Survived']/data_gb_embarked.count()['Survived'],color = 'red' ,label = '生存率')\n",
    "\n",
    "ax.legend()\n",
    "ax1.legend(loc='upper center')\n",
    "\n",
    "plt.show()"
   ]
  },
  {
   "cell_type": "code",
   "execution_count": 26,
   "metadata": {},
   "outputs": [],
   "source": [
    "data_train['称谓'] = data_train.loc[:,'Name'].apply(lambda x : x.replace(' ','').split('.')[0].split(',')[-1])\n",
    "data_test['称谓'] = data_test.loc[:,'Name'].apply(lambda x : x.replace(' ','').split('.')[0].split(',')[-1])"
   ]
  },
  {
   "cell_type": "code",
   "execution_count": 27,
   "metadata": {},
   "outputs": [
    {
     "data": {
      "image/png": "[encoded data removed]",
      "text/plain": [
       "<Figure size 1008x504 with 2 Axes>"
      ]
     },
     "metadata": {},
     "output_type": "display_data"
    }
   ],
   "source": [
    "\n",
    "fig,ax=plt.subplots(figsize = (14,7))\n",
    "\n",
    "data_gb_name = data_train.groupby('称谓')\n",
    "\n",
    "ax1 = ax.twinx()\n",
    "ax.bar(x=data_gb_name.count().index,height=data_gb_name.count()['Survived'],\n",
    "        label = 0)\n",
    "ax.bar(x=data_gb_name.count().index,height=data_gb_name.sum()['Survived'],\n",
    "        label = 1)\n",
    "\n",
    "ax1.plot(data_gb_name.count().index,data_gb_name.sum()['Survived']/data_gb_name.count()['Survived'],color = 'red' ,label = '生存率')\n",
    "\n",
    "ax.legend()\n",
    "ax1.legend(loc='upper center')\n",
    "\n",
    "plt.show()"
   ]
  },
  {
   "cell_type": "code",
   "execution_count": 28,
   "metadata": {},
   "outputs": [],
   "source": [
    "def return_name(name):\n",
    "    if name in ['Mr', 'Mrs', 'Miss', 'Master']:\n",
    "        return name\n",
    "    elif name == 'Mme':\n",
    "        return 'Mrs'\n",
    "    elif name == 'Ms':\n",
    "        return 'Mrs'\n",
    "    elif name == 'Lady':\n",
    "        return 'Miss'\n",
    "    elif name == 'Sir':\n",
    "        return 'Mr'\n",
    "    elif name == 'Mlle':\n",
    "        return 'Mrs'\n",
    "    elif name == 'theCountess':\n",
    "        return 'Mrs'\n",
    "    else:\n",
    "        return 'Other'\n",
    "    "
   ]
  },
  {
   "cell_type": "code",
   "execution_count": 29,
   "metadata": {},
   "outputs": [],
   "source": [
    "data_train['称谓'] = data_train['称谓'].apply(return_name)\n",
    "data_test['称谓'] = data_test['称谓'].apply(return_name)"
   ]
  },
  {
   "cell_type": "code",
   "execution_count": 30,
   "metadata": {},
   "outputs": [
    {
     "data": {
      "image/png": "[encoded data removed]",
      "text/plain": [
       "<Figure size 1008x504 with 2 Axes>"
      ]
     },
     "metadata": {},
     "output_type": "display_data"
    }
   ],
   "source": [
    "\n",
    "fig,ax=plt.subplots(figsize = (14,7))\n",
    "\n",
    "data_gb_name = data_train.groupby('称谓')\n",
    "\n",
    "ax1 = ax.twinx()\n",
    "ax.bar(x=data_gb_name.count().index,height=data_gb_name.count()['Survived'],\n",
    "        label = 0)\n",
    "ax.bar(x=data_gb_name.count().index,height=data_gb_name.sum()['Survived'],\n",
    "        label = 1)\n",
    "\n",
    "ax1.plot(data_gb_name.count().index,data_gb_name.sum()['Survived']/data_gb_name.count()['Survived'],color = 'red' ,label = '生存率')\n",
    "\n",
    "ax.legend()\n",
    "ax1.legend(loc='upper center')\n",
    "\n",
    "\n",
    "plt.show()"
   ]
  },
  {
   "cell_type": "markdown",
   "metadata": {},
   "source": [
    "## 3、数据清洗"
   ]
  },
  {
   "cell_type": "markdown",
   "metadata": {},
   "source": [
    "缺失字段有 3 个，Age 、 Fare 、 Embarked ，其中 Age 缺失数据最多，Fare 在测试集中缺失 1 条，Embarked 在训练集中缺失 2 条。\n",
    "\n",
    "以平均值补充 Fare ,以最多值补充 Embarked 。"
   ]
  },
  {
   "cell_type": "code",
   "execution_count": 31,
   "metadata": {},
   "outputs": [],
   "source": [
    "data_train_3 = data_train.copy()\n",
    "\n",
    "data_train_3.Fare.fillna(data_train.Fare.mean(),inplace= True)\n",
    "data_train_3.Embarked.fillna(data_train.groupby('Embarked')['Embarked'].count().sort_values().index[-1],inplace= True)\n",
    "\n",
    "# data_train.Fare.mean()"
   ]
  },
  {
   "cell_type": "code",
   "execution_count": 32,
   "metadata": {},
   "outputs": [],
   "source": [
    "data_test_3 = data_test.copy()\n",
    "\n",
    "data_test_3.Fare.fillna(data_test.Fare.mean(),inplace= True)\n",
    "data_test_3.Embarked.fillna(data_test.groupby('Embarked')['Embarked'].count().sort_values().index[-1],inplace= True)\n",
    "\n",
    "# data_test.Fare.mean()"
   ]
  },
  {
   "cell_type": "markdown",
   "metadata": {},
   "source": [
    "#### 3.1 以平均值补充 Age 。"
   ]
  },
  {
   "cell_type": "code",
   "execution_count": 33,
   "metadata": {},
   "outputs": [],
   "source": [
    "data_train_3_1 = data_train_3.copy()\n",
    "\n",
    "data_train_3_1.Age.fillna(data_train.Age.mean(),inplace= True)\n"
   ]
  },
  {
   "cell_type": "code",
   "execution_count": 34,
   "metadata": {},
   "outputs": [],
   "source": [
    "data_test_3_1 = data_test_3.copy()\n",
    "\n",
    "data_test_3_1.Age.fillna(data_test.Age.mean(),inplace= True)\n"
   ]
  },
  {
   "cell_type": "markdown",
   "metadata": {},
   "source": [
    "#### 3.2按照 称谓 字段的各平均值补充各称谓的 Age 。"
   ]
  },
  {
   "cell_type": "code",
   "execution_count": 35,
   "metadata": {},
   "outputs": [
    {
     "name": "stdout",
     "output_type": "stream",
     "text": [
      "称谓 Mr 的平均年龄 32.409774436090224\n",
      "称谓 Mrs 的平均年龄 35.48672566371681\n",
      "称谓 Miss 的平均年龄 21.952380952380953\n",
      "称谓 Master 的平均年龄 4.574166666666667\n",
      "称谓 Other 的平均年龄 45.89473684210526\n"
     ]
    }
   ],
   "source": [
    "data_train_3_2 = data_train_3.copy()\n",
    "\n",
    "# data_train_3_2.Age.fillna(data_train.Age.mean(),inplace= True)\n",
    "for i in data_train_3_2.称谓.unique():\n",
    "    print('称谓 {} 的平均年龄 {}'.format(i,data_train_3_2.loc[(data_train_3_2.称谓 == i),'Age'].mean()))\n",
    "    data_train_3_2.loc[(data_train_3_2.称谓 == i),'Age'] = data_train_3_2.loc[(data_train_3_2.称谓 == i),'Age'].fillna(data_train_3_2.loc[(data_train_3_2.称谓 == i),'Age'].mean())"
   ]
  },
  {
   "cell_type": "code",
   "execution_count": 36,
   "metadata": {},
   "outputs": [
    {
     "name": "stdout",
     "output_type": "stream",
     "text": [
      "称谓 Mr 的平均年龄 32.0\n",
      "称谓 Mrs 的平均年龄 38.903225806451616\n",
      "称谓 Miss 的平均年龄 21.774843750000002\n",
      "称谓 Master 的平均年龄 7.406470588235294\n",
      "称谓 Other 的平均年龄 43.833333333333336\n"
     ]
    }
   ],
   "source": [
    "data_test_3_2 = data_test_3.copy()\n",
    "\n",
    "# data_test_3_2.Age.fillna(data_test.Age.mean(),inplace= True)\n",
    "for i in data_test_3_2.称谓.unique():\n",
    "    print('称谓 {} 的平均年龄 {}'.format(i,data_test_3_2.loc[(data_test_3_2.称谓 == i),'Age'].mean()))\n",
    "    data_test_3_2.loc[(data_test_3_2.称谓 == i),'Age'] = data_test_3_2.loc[(data_test_3_2.称谓 == i),'Age'].fillna(data_test_3_2.loc[(data_test_3_2.称谓 == i),'Age'].mean())"
   ]
  },
  {
   "cell_type": "markdown",
   "metadata": {},
   "source": [
    "#### 筛选训练数据与生存结果列"
   ]
  },
  {
   "cell_type": "code",
   "execution_count": 37,
   "metadata": {},
   "outputs": [],
   "source": [
    "train_label = ['Pclass', 'Sex', 'Age', 'SibSp',\n",
    "       'Parch', 'Fare', 'Embarked', '_family_numbers',\n",
    "       '称谓']\n",
    "train_survived = data_train_3['Survived']"
   ]
  },
  {
   "cell_type": "markdown",
   "metadata": {},
   "source": [
    "对平均值补充 Age 训练数据(data_train_3_1)和按照 称谓 字段的各平均值补充各称谓的 Age 训练数据(data_train_3_2)进行one-hot处理"
   ]
  },
  {
   "cell_type": "code",
   "execution_count": 38,
   "metadata": {},
   "outputs": [],
   "source": [
    "from sklearn.feature_extraction import DictVectorizer\n",
    "dvec_3_1=DictVectorizer(sparse=False)\n",
    "data_train_features_3_1=dvec_3_1.fit_transform(data_train_3_1[train_label].to_dict(orient='records'))\n",
    "\n",
    "\n",
    "dvec_3_2=DictVectorizer(sparse=False)\n",
    "data_train_features_3_2=dvec_3_2.fit_transform(data_train_3_2[train_label].to_dict(orient='records'))\n"
   ]
  },
  {
   "cell_type": "markdown",
   "metadata": {},
   "source": [
    "训练集\n",
    "\n",
    "data_train_features_scaler_3_1_1 平均值填充Age onehot+MinMax处理\n",
    "\n",
    "data_train_features_scaler_3_2_1 按称谓平均值填充Age onehot+MinMax处理\n",
    "\n",
    "data_train_features_scaler_3_1_2 平均值填充Age onehot+Z-score处理\n",
    "\n",
    "data_train_features_scaler_3_2_2 按称谓平均值填充Age onehot+Z-score处理"
   ]
  },
  {
   "cell_type": "code",
   "execution_count": 39,
   "metadata": {},
   "outputs": [],
   "source": [
    "from sklearn.preprocessing import MinMaxScaler\n",
    "scaler_3_1_1 = MinMaxScaler()\n",
    "data_train_features_scaler_3_1_1 = scaler_3_1_1.fit_transform(data_train_features_3_1)\n",
    "\n",
    "\n",
    "scaler_3_2_1 = MinMaxScaler()\n",
    "data_train_features_scaler_3_2_1 = scaler_3_2_1.fit_transform(data_train_features_3_2)\n",
    "\n",
    "from sklearn.preprocessing import StandardScaler\n",
    "scaler_3_1_2 = StandardScaler()\n",
    "data_train_features_scaler_3_1_2 = scaler_3_1_2.fit_transform(data_train_features_3_1)\n",
    "\n",
    "scaler_3_2_2 = StandardScaler()\n",
    "data_train_features_scaler_3_2_2 = scaler_3_2_2.fit_transform(data_train_features_3_2)\n"
   ]
  },
  {
   "cell_type": "markdown",
   "metadata": {},
   "source": [
    "测试集\n",
    "\n",
    "data_test_features_scaler_3_1_1 平均值填充Age onehot+MinMax处理\n",
    "\n",
    "data_test_features_scaler_3_2_1 按称谓平均值填充Age onehot+MinMax处理\n",
    "\n",
    "data_test_features_scaler_3_1_2 平均值填充Age onehot+Z-score处理\n",
    "\n",
    "data_test_features_scaler_3_2_2 按称谓平均值填充Age onehot+Z-score处理"
   ]
  },
  {
   "cell_type": "code",
   "execution_count": 40,
   "metadata": {},
   "outputs": [],
   "source": [
    "from sklearn.feature_extraction import DictVectorizer\n",
    "dvec_3_1=DictVectorizer(sparse=False)\n",
    "data_test_features_3_1=dvec_3_1.fit_transform(data_test_3_1[train_label].to_dict(orient='records'))\n",
    "\n",
    "\n",
    "dvec_3_2=DictVectorizer(sparse=False)\n",
    "data_test_features_3_2=dvec_3_2.fit_transform(data_test_3_2[train_label].to_dict(orient='records'))\n",
    "\n",
    "from sklearn.preprocessing import MinMaxScaler\n",
    "scaler_3_1_1 = MinMaxScaler()\n",
    "data_test_features_scaler_3_1_1 = scaler_3_1_1.fit_transform(data_test_features_3_1)\n",
    "\n",
    "\n",
    "scaler_3_2_1 = MinMaxScaler()\n",
    "data_test_features_scaler_3_2_1 = scaler_3_2_1.fit_transform(data_test_features_3_2)\n",
    "\n",
    "from sklearn.preprocessing import StandardScaler\n",
    "scaler_3_1_2 = StandardScaler()\n",
    "data_test_features_scaler_3_1_2 = scaler_3_1_2.fit_transform(data_test_features_3_1)\n",
    "\n",
    "scaler_3_2_2 = StandardScaler()\n",
    "data_test_features_scaler_3_2_2 = scaler_3_2_2.fit_transform(data_test_features_3_2)\n"
   ]
  },
  {
   "cell_type": "markdown",
   "metadata": {},
   "source": [
    "切分数据"
   ]
  },
  {
   "cell_type": "code",
   "execution_count": 41,
   "metadata": {},
   "outputs": [],
   "source": [
    "from sklearn.model_selection import  train_test_split\n",
    "\n",
    "train_test_data_list = []\n",
    "\n",
    "train_test_data_list.append(train_test_split(data_train_features_scaler_3_1_1, train_survived, test_size=0.30))\n",
    "\n",
    "train_test_data_list.append(train_test_split(data_train_features_scaler_3_2_1, train_survived, test_size=0.30))\n",
    "\n",
    "train_test_data_list.append(train_test_split(data_train_features_scaler_3_1_2, train_survived, test_size=0.30))\n",
    "\n",
    "train_test_data_list.append(train_test_split(data_train_features_scaler_3_2_2, train_survived, test_size=0.30))\n"
   ]
  },
  {
   "cell_type": "code",
   "execution_count": null,
   "metadata": {},
   "outputs": [],
   "source": []
  },
  {
   "cell_type": "code",
   "execution_count": null,
   "metadata": {},
   "outputs": [],
   "source": []
  },
  {
   "cell_type": "code",
   "execution_count": 42,
   "metadata": {},
   "outputs": [],
   "source": [
    "## 5、模型建立"
   ]
  },
  {
   "cell_type": "code",
   "execution_count": 43,
   "metadata": {},
   "outputs": [],
   "source": [
    "from sklearn.model_selection import GridSearchCV\n",
    "\n",
    "model_dict = {}\n",
    "\n",
    "from sklearn.tree import DecisionTreeClassifier\n",
    "# 决策树模型\n",
    "DTREE = DecisionTreeClassifier()\n",
    "DTREE_parameters = {\"criterion\": ['gini','entropy']}\n",
    "model_dict['DTREE'] = GridSearchCV(estimator=DTREE, param_grid=DTREE_parameters)\n",
    "\n",
    "from sklearn import svm\n",
    "svc = svm.SVC()\n",
    "svc_parameters = {\"C\": range(1,5)}\n",
    "model_dict['SVC'] = GridSearchCV(estimator=svc, param_grid=svc_parameters)\n",
    "\n",
    "from sklearn.neighbors import KNeighborsClassifier\n",
    "knn = KNeighborsClassifier()\n",
    "knn_parameters = {\"n_neighbors\": range(1,8)}\n",
    "model_dict['KNN'] = GridSearchCV(estimator=knn, param_grid=knn_parameters)\n",
    "\n",
    "\n",
    "from sklearn.ensemble import AdaBoostClassifier\n",
    "regressor=AdaBoostClassifier()\n",
    "regressor_parameters = {\"n_estimators\": range(40,50)}\n",
    "model_dict['AdaBoost'] = GridSearchCV(estimator=regressor, param_grid=regressor_parameters)\n",
    "\n",
    "from sklearn.ensemble import RandomForestClassifier\n",
    "rf = RandomForestClassifier()\n",
    "rf_parameters = {\"n_estimators\": range(90,100)}\n",
    "model_dict['RF'] = GridSearchCV(estimator=rf, param_grid=rf_parameters)\n",
    "\n",
    "from sklearn.linear_model import LogisticRegression\n",
    "# 定义逻辑回归分类器\n",
    "logic = LogisticRegression()\n",
    "logic_parameters = {'C': (0.01, 0.1, 1, 10)}\n",
    "model_dict['logic'] = GridSearchCV(estimator=logic, param_grid=logic_parameters)\n",
    "              \n",
    "\n",
    "model_df = pd.DataFrame(model_dict,index=['model']).T"
   ]
  },
  {
   "cell_type": "markdown",
   "metadata": {},
   "source": [
    "### 预测 挑出最佳模型"
   ]
  },
  {
   "cell_type": "code",
   "execution_count": 44,
   "metadata": {
    "scrolled": false
   },
   "outputs": [
    {
     "name": "stdout",
     "output_type": "stream",
     "text": [
      "\n",
      "3_1_1方式处理：AGE全局平均值填充 + onehot + minmax\n",
      "\n",
      "DTREE 模型最佳得分 75.91%\n",
      "DTREE 模型最佳参数 {'criterion': 'entropy'}\n",
      "DTREE 模型K折交叉验证得分 78.31%\n",
      "SVC 模型最佳得分 83.15%\n",
      "SVC 模型最佳参数 {'C': 2}\n",
      "SVC 模型K折交叉验证得分 83.77%\n",
      "KNN 模型最佳得分 81.54%\n",
      "KNN 模型最佳参数 {'n_neighbors': 4}\n",
      "KNN 模型K折交叉验证得分 81.04%\n",
      "AdaBoost 模型最佳得分 80.74%\n",
      "AdaBoost 模型最佳参数 {'n_estimators': 41}\n",
      "AdaBoost 模型K折交叉验证得分 80.56%\n",
      "RF 模型最佳得分 80.73%\n",
      "RF 模型最佳参数 {'n_estimators': 98}\n",
      "RF 模型K折交叉验证得分 79.60%\n",
      "logic 模型最佳得分 82.18%\n",
      "logic 模型最佳参数 {'C': 1}\n",
      "logic 模型K折交叉验证得分 82.33%\n",
      "\n",
      "3_2_1方式处理：AGE称谓平均值填充 + onehot + minmax\n",
      "\n",
      "DTREE 模型最佳得分 78.50%\n",
      "DTREE 模型最佳参数 {'criterion': 'gini'}\n",
      "DTREE 模型K折交叉验证得分 77.22%\n",
      "SVC 模型最佳得分 84.27%\n",
      "SVC 模型最佳参数 {'C': 3}\n",
      "SVC 模型K折交叉验证得分 84.11%\n",
      "KNN 模型最佳得分 82.03%\n",
      "KNN 模型最佳参数 {'n_neighbors': 4}\n",
      "KNN 模型K折交叉验证得分 82.35%\n",
      "AdaBoost 模型最佳得分 81.39%\n",
      "AdaBoost 模型最佳参数 {'n_estimators': 43}\n",
      "AdaBoost 模型K折交叉验证得分 82.35%\n",
      "RF 模型最佳得分 80.59%\n",
      "RF 模型最佳参数 {'n_estimators': 94}\n",
      "RF 模型K折交叉验证得分 80.27%\n",
      "logic 模型最佳得分 83.95%\n",
      "logic 模型最佳参数 {'C': 10}\n",
      "logic 模型K折交叉验证得分 83.32%\n",
      "\n",
      "3_1_2方式处理：AGE全局平均值填充 + onehot + Z-Score\n",
      "\n",
      "DTREE 模型最佳得分 77.52%\n",
      "DTREE 模型最佳参数 {'criterion': 'entropy'}\n",
      "DTREE 模型K折交叉验证得分 76.42%\n",
      "SVC 模型最佳得分 83.14%\n",
      "SVC 模型最佳参数 {'C': 2}\n",
      "SVC 模型K折交叉验证得分 83.47%\n",
      "KNN 模型最佳得分 83.15%\n",
      "KNN 模型最佳参数 {'n_neighbors': 5}\n",
      "KNN 模型K折交叉验证得分 82.52%\n",
      "AdaBoost 模型最佳得分 80.42%\n",
      "AdaBoost 模型最佳参数 {'n_estimators': 40}\n",
      "AdaBoost 模型K折交叉验证得分 80.90%\n",
      "RF 模型最佳得分 82.34%\n",
      "RF 模型最佳参数 {'n_estimators': 95}\n",
      "RF 模型K折交叉验证得分 81.72%\n",
      "logic 模型最佳得分 82.67%\n",
      "logic 模型最佳参数 {'C': 10}\n",
      "logic 模型K折交叉验证得分 82.83%\n",
      "\n",
      "3_2_2方式处理：AGE称谓平均值填充 + onehot + Z-Score\n",
      "\n",
      "DTREE 模型最佳得分 79.78%\n",
      "DTREE 模型最佳参数 {'criterion': 'entropy'}\n",
      "DTREE 模型K折交叉验证得分 78.79%\n",
      "SVC 模型最佳得分 83.79%\n",
      "SVC 模型最佳参数 {'C': 1}\n",
      "SVC 模型K折交叉验证得分 83.95%\n",
      "KNN 模型最佳得分 82.67%\n",
      "KNN 模型最佳参数 {'n_neighbors': 5}\n",
      "KNN 模型K折交叉验证得分 82.36%\n",
      "AdaBoost 模型最佳得分 81.39%\n",
      "AdaBoost 模型最佳参数 {'n_estimators': 40}\n",
      "AdaBoost 模型K折交叉验证得分 81.39%\n",
      "RF 模型最佳得分 82.83%\n",
      "RF 模型最佳参数 {'n_estimators': 98}\n",
      "RF 模型K折交叉验证得分 81.71%\n",
      "logic 模型最佳得分 83.63%\n",
      "logic 模型最佳参数 {'C': 0.1}\n",
      "logic 模型K折交叉验证得分 84.12%\n"
     ]
    },
    {
     "data": {
      "image/png": "[encoded data removed]",
      "text/plain": [
       "<Figure size 864x648 with 4 Axes>"
      ]
     },
     "metadata": {},
     "output_type": "display_data"
    }
   ],
   "source": [
    "from sklearn.metrics import confusion_matrix,accuracy_score,roc_curve, roc_auc_score\n",
    "\n",
    "# plt.figure(figsize=(5,4),dpi=150)\n",
    "# fig, axes = plt.subplots(2, 2,figsize = (12,9),dpi=150)\n",
    "fig, axes = plt.subplots(2, 2,figsize = (12,9))\n",
    "\n",
    "data_type = {0:'3_1_1方式处理：AGE全局平均值填充 + onehot + minmax',\n",
    "            1:'3_2_1方式处理：AGE称谓平均值填充 + onehot + minmax',\n",
    "            2:'3_1_2方式处理：AGE全局平均值填充 + onehot + Z-Score',\n",
    "            3:'3_2_2方式处理：AGE称谓平均值填充 + onehot + Z-Score'}\n",
    "score_df = []\n",
    "for i,l in enumerate(train_test_data_list):\n",
    "    train_x = l[0]\n",
    "    test_x = l[1]\n",
    "    train_y = l[2]\n",
    "    test_y = l[3]\n",
    "    print()\n",
    "    print(data_type[i])\n",
    "    print()\n",
    "    ax = axes[i//2,i%2]\n",
    "    \n",
    "    for name,content in model_df.iterrows():\n",
    "        model = content.model\n",
    "        model.fit(train_x,train_y)\n",
    "        print('{} 模型最佳得分 {:.2%}'.format(name,model.best_score_))\n",
    "        print('{} 模型最佳参数 {}'.format(name,model.best_params_))\n",
    "\n",
    "        best_model = model.best_estimator_\n",
    "\n",
    "        Kscore = np.mean(cross_val_score(best_model, train_x, train_y, cv=10))\n",
    "        print('{} 模型K折交叉验证得分 {:.2%}'.format(name,Kscore))\n",
    "\n",
    "\n",
    "\n",
    "        pred_y = best_model.predict(test_x)\n",
    "\n",
    "        fpr, tpr, thresholds = roc_curve(test_y, pred_y)\n",
    "        # auc面积\n",
    "        roc_auc = roc_auc_score(test_y, pred_y)\n",
    "        \n",
    "        score_df.append([\n",
    "            name,\n",
    "            model,\n",
    "            data_type[i],\n",
    "            model.best_score_,\n",
    "            model.best_params_,\n",
    "            round(Kscore*100,2),\n",
    "            roc_auc,\n",
    "        ])\n",
    "        \n",
    "        ax.plot(fpr, tpr,label=name)\n",
    "        ax.plot(fpr, fpr, linestyle = '-' )\n",
    "    \n",
    "        ax.set_title(data_type[i])\n",
    "\n",
    "        ax.legend()\n",
    "        \n",
    "plt.savefig('3.jpg')\n",
    "plt.show()\n",
    "\n",
    "score_df = pd.DataFrame(score_df,columns=['name','model','处理方式','最佳得分','最佳参数','K折交叉验证得分','最佳模型AUC面积'])"
   ]
  },
  {
   "cell_type": "code",
   "execution_count": 46,
   "metadata": {
    "scrolled": true
   },
   "outputs": [
    {
     "data": {
      "text/html": [
       "<div>\n",
       "<style scoped>\n",
       "    .dataframe tbody tr th:only-of-type {\n",
       "        vertical-align: middle;\n",
       "    }\n",
       "\n",
       "    .dataframe tbody tr th {\n",
       "        vertical-align: top;\n",
       "    }\n",
       "\n",
       "    .dataframe thead th {\n",
       "        text-align: right;\n",
       "    }\n",
       "</style>\n",
       "<table border=\"1\" class=\"dataframe\">\n",
       "  <thead>\n",
       "    <tr style=\"text-align: right;\">\n",
       "      <th></th>\n",
       "      <th>name</th>\n",
       "      <th>model</th>\n",
       "      <th>处理方式</th>\n",
       "      <th>最佳得分</th>\n",
       "      <th>最佳参数</th>\n",
       "      <th>K折交叉验证得分</th>\n",
       "      <th>最佳模型AUC面积</th>\n",
       "    </tr>\n",
       "  </thead>\n",
       "  <tbody>\n",
       "    <tr>\n",
       "      <th>15</th>\n",
       "      <td>AdaBoost</td>\n",
       "      <td>GridSearchCV(estimator=AdaBoostClassifier(),\\n...</td>\n",
       "      <td>3_1_2方式处理：AGE全局平均值填充 + onehot + Z-Score</td>\n",
       "      <td>0.804181</td>\n",
       "      <td>{'n_estimators': 40}</td>\n",
       "      <td>80.90</td>\n",
       "      <td>0.788291</td>\n",
       "    </tr>\n",
       "    <tr>\n",
       "      <th>21</th>\n",
       "      <td>AdaBoost</td>\n",
       "      <td>GridSearchCV(estimator=AdaBoostClassifier(),\\n...</td>\n",
       "      <td>3_2_2方式处理：AGE称谓平均值填充 + onehot + Z-Score</td>\n",
       "      <td>0.813884</td>\n",
       "      <td>{'n_estimators': 40}</td>\n",
       "      <td>81.39</td>\n",
       "      <td>0.790764</td>\n",
       "    </tr>\n",
       "    <tr>\n",
       "      <th>9</th>\n",
       "      <td>AdaBoost</td>\n",
       "      <td>GridSearchCV(estimator=AdaBoostClassifier(),\\n...</td>\n",
       "      <td>3_2_1方式处理：AGE称谓平均值填充 + onehot + minmax</td>\n",
       "      <td>0.813858</td>\n",
       "      <td>{'n_estimators': 43}</td>\n",
       "      <td>82.35</td>\n",
       "      <td>0.807224</td>\n",
       "    </tr>\n",
       "    <tr>\n",
       "      <th>3</th>\n",
       "      <td>AdaBoost</td>\n",
       "      <td>GridSearchCV(estimator=AdaBoostClassifier(),\\n...</td>\n",
       "      <td>3_1_1方式处理：AGE全局平均值填充 + onehot + minmax</td>\n",
       "      <td>0.807368</td>\n",
       "      <td>{'n_estimators': 41}</td>\n",
       "      <td>80.56</td>\n",
       "      <td>0.811548</td>\n",
       "    </tr>\n",
       "    <tr>\n",
       "      <th>18</th>\n",
       "      <td>DTREE</td>\n",
       "      <td>GridSearchCV(estimator=DecisionTreeClassifier(...</td>\n",
       "      <td>3_2_2方式处理：AGE称谓平均值填充 + onehot + Z-Score</td>\n",
       "      <td>0.797781</td>\n",
       "      <td>{'criterion': 'entropy'}</td>\n",
       "      <td>78.79</td>\n",
       "      <td>0.725076</td>\n",
       "    </tr>\n",
       "    <tr>\n",
       "      <th>12</th>\n",
       "      <td>DTREE</td>\n",
       "      <td>GridSearchCV(estimator=DecisionTreeClassifier(...</td>\n",
       "      <td>3_1_2方式处理：AGE全局平均值填充 + onehot + Z-Score</td>\n",
       "      <td>0.775239</td>\n",
       "      <td>{'criterion': 'entropy'}</td>\n",
       "      <td>76.42</td>\n",
       "      <td>0.749485</td>\n",
       "    </tr>\n",
       "    <tr>\n",
       "      <th>0</th>\n",
       "      <td>DTREE</td>\n",
       "      <td>GridSearchCV(estimator=DecisionTreeClassifier(...</td>\n",
       "      <td>3_1_1方式处理：AGE全局平均值填充 + onehot + minmax</td>\n",
       "      <td>0.759123</td>\n",
       "      <td>{'criterion': 'entropy'}</td>\n",
       "      <td>78.31</td>\n",
       "      <td>0.771667</td>\n",
       "    </tr>\n",
       "    <tr>\n",
       "      <th>6</th>\n",
       "      <td>DTREE</td>\n",
       "      <td>GridSearchCV(estimator=DecisionTreeClassifier(...</td>\n",
       "      <td>3_2_1方式处理：AGE称谓平均值填充 + onehot + minmax</td>\n",
       "      <td>0.785006</td>\n",
       "      <td>{'criterion': 'gini'}</td>\n",
       "      <td>77.22</td>\n",
       "      <td>0.775114</td>\n",
       "    </tr>\n",
       "    <tr>\n",
       "      <th>8</th>\n",
       "      <td>KNN</td>\n",
       "      <td>GridSearchCV(estimator=KNeighborsClassifier(),...</td>\n",
       "      <td>3_2_1方式处理：AGE称谓平均值填充 + onehot + minmax</td>\n",
       "      <td>0.820258</td>\n",
       "      <td>{'n_neighbors': 4}</td>\n",
       "      <td>82.35</td>\n",
       "      <td>0.766978</td>\n",
       "    </tr>\n",
       "    <tr>\n",
       "      <th>14</th>\n",
       "      <td>KNN</td>\n",
       "      <td>GridSearchCV(estimator=KNeighborsClassifier(),...</td>\n",
       "      <td>3_1_2方式处理：AGE全局平均值填充 + onehot + Z-Score</td>\n",
       "      <td>0.831458</td>\n",
       "      <td>{'n_neighbors': 5}</td>\n",
       "      <td>82.52</td>\n",
       "      <td>0.770697</td>\n",
       "    </tr>\n",
       "    <tr>\n",
       "      <th>20</th>\n",
       "      <td>KNN</td>\n",
       "      <td>GridSearchCV(estimator=KNeighborsClassifier(),...</td>\n",
       "      <td>3_2_2方式处理：AGE称谓平均值填充 + onehot + Z-Score</td>\n",
       "      <td>0.826697</td>\n",
       "      <td>{'n_neighbors': 5}</td>\n",
       "      <td>82.36</td>\n",
       "      <td>0.779700</td>\n",
       "    </tr>\n",
       "    <tr>\n",
       "      <th>2</th>\n",
       "      <td>KNN</td>\n",
       "      <td>GridSearchCV(estimator=KNeighborsClassifier(),...</td>\n",
       "      <td>3_1_1方式处理：AGE全局平均值填充 + onehot + minmax</td>\n",
       "      <td>0.815381</td>\n",
       "      <td>{'n_neighbors': 4}</td>\n",
       "      <td>81.04</td>\n",
       "      <td>0.792262</td>\n",
       "    </tr>\n",
       "    <tr>\n",
       "      <th>16</th>\n",
       "      <td>RF</td>\n",
       "      <td>GridSearchCV(estimator=RandomForestClassifier(...</td>\n",
       "      <td>3_1_2方式处理：AGE全局平均值填充 + onehot + Z-Score</td>\n",
       "      <td>0.823445</td>\n",
       "      <td>{'n_estimators': 95}</td>\n",
       "      <td>81.72</td>\n",
       "      <td>0.759812</td>\n",
       "    </tr>\n",
       "    <tr>\n",
       "      <th>10</th>\n",
       "      <td>RF</td>\n",
       "      <td>GridSearchCV(estimator=RandomForestClassifier(...</td>\n",
       "      <td>3_2_1方式处理：AGE称谓平均值填充 + onehot + minmax</td>\n",
       "      <td>0.805871</td>\n",
       "      <td>{'n_estimators': 94}</td>\n",
       "      <td>80.27</td>\n",
       "      <td>0.787433</td>\n",
       "    </tr>\n",
       "    <tr>\n",
       "      <th>22</th>\n",
       "      <td>RF</td>\n",
       "      <td>GridSearchCV(estimator=RandomForestClassifier(...</td>\n",
       "      <td>3_2_2方式处理：AGE称谓平均值填充 + onehot + Z-Score</td>\n",
       "      <td>0.828323</td>\n",
       "      <td>{'n_estimators': 98}</td>\n",
       "      <td>81.71</td>\n",
       "      <td>0.790589</td>\n",
       "    </tr>\n",
       "    <tr>\n",
       "      <th>4</th>\n",
       "      <td>RF</td>\n",
       "      <td>GridSearchCV(estimator=RandomForestClassifier(...</td>\n",
       "      <td>3_1_1方式处理：AGE全局平均值填充 + onehot + minmax</td>\n",
       "      <td>0.807342</td>\n",
       "      <td>{'n_estimators': 98}</td>\n",
       "      <td>79.60</td>\n",
       "      <td>0.797619</td>\n",
       "    </tr>\n",
       "    <tr>\n",
       "      <th>13</th>\n",
       "      <td>SVC</td>\n",
       "      <td>GridSearchCV(estimator=SVC(), param_grid={'C':...</td>\n",
       "      <td>3_1_2方式处理：AGE全局平均值填充 + onehot + Z-Score</td>\n",
       "      <td>0.831445</td>\n",
       "      <td>{'C': 2}</td>\n",
       "      <td>83.47</td>\n",
       "      <td>0.771874</td>\n",
       "    </tr>\n",
       "    <tr>\n",
       "      <th>7</th>\n",
       "      <td>SVC</td>\n",
       "      <td>GridSearchCV(estimator=SVC(), param_grid={'C':...</td>\n",
       "      <td>3_2_1方式处理：AGE称谓平均值填充 + onehot + minmax</td>\n",
       "      <td>0.842723</td>\n",
       "      <td>{'C': 3}</td>\n",
       "      <td>84.11</td>\n",
       "      <td>0.776153</td>\n",
       "    </tr>\n",
       "    <tr>\n",
       "      <th>1</th>\n",
       "      <td>SVC</td>\n",
       "      <td>GridSearchCV(estimator=SVC(), param_grid={'C':...</td>\n",
       "      <td>3_1_1方式处理：AGE全局平均值填充 + onehot + minmax</td>\n",
       "      <td>0.831458</td>\n",
       "      <td>{'C': 2}</td>\n",
       "      <td>83.77</td>\n",
       "      <td>0.791190</td>\n",
       "    </tr>\n",
       "    <tr>\n",
       "      <th>19</th>\n",
       "      <td>SVC</td>\n",
       "      <td>GridSearchCV(estimator=SVC(), param_grid={'C':...</td>\n",
       "      <td>3_2_2方式处理：AGE称谓平均值填充 + onehot + Z-Score</td>\n",
       "      <td>0.837935</td>\n",
       "      <td>{'C': 1}</td>\n",
       "      <td>83.95</td>\n",
       "      <td>0.793676</td>\n",
       "    </tr>\n",
       "    <tr>\n",
       "      <th>23</th>\n",
       "      <td>logic</td>\n",
       "      <td>GridSearchCV(estimator=LogisticRegression(),\\n...</td>\n",
       "      <td>3_2_2方式处理：AGE称谓平均值填充 + onehot + Z-Score</td>\n",
       "      <td>0.836335</td>\n",
       "      <td>{'C': 0.1}</td>\n",
       "      <td>84.12</td>\n",
       "      <td>0.796937</td>\n",
       "    </tr>\n",
       "    <tr>\n",
       "      <th>17</th>\n",
       "      <td>logic</td>\n",
       "      <td>GridSearchCV(estimator=LogisticRegression(),\\n...</td>\n",
       "      <td>3_1_2方式处理：AGE全局平均值填充 + onehot + Z-Score</td>\n",
       "      <td>0.826671</td>\n",
       "      <td>{'C': 10}</td>\n",
       "      <td>82.83</td>\n",
       "      <td>0.808914</td>\n",
       "    </tr>\n",
       "    <tr>\n",
       "      <th>5</th>\n",
       "      <td>logic</td>\n",
       "      <td>GridSearchCV(estimator=LogisticRegression(),\\n...</td>\n",
       "      <td>3_1_1方式处理：AGE全局平均值填充 + onehot + minmax</td>\n",
       "      <td>0.821806</td>\n",
       "      <td>{'C': 1}</td>\n",
       "      <td>82.33</td>\n",
       "      <td>0.813452</td>\n",
       "    </tr>\n",
       "    <tr>\n",
       "      <th>11</th>\n",
       "      <td>logic</td>\n",
       "      <td>GridSearchCV(estimator=LogisticRegression(),\\n...</td>\n",
       "      <td>3_2_1方式处理：AGE称谓平均值填充 + onehot + minmax</td>\n",
       "      <td>0.839471</td>\n",
       "      <td>{'C': 10}</td>\n",
       "      <td>83.32</td>\n",
       "      <td>0.819543</td>\n",
       "    </tr>\n",
       "  </tbody>\n",
       "</table>\n",
       "</div>"
      ],
      "text/plain": [
       "        name                                              model  \\\n",
       "15  AdaBoost  GridSearchCV(estimator=AdaBoostClassifier(),\\n...   \n",
       "21  AdaBoost  GridSearchCV(estimator=AdaBoostClassifier(),\\n...   \n",
       "9   AdaBoost  GridSearchCV(estimator=AdaBoostClassifier(),\\n...   \n",
       "3   AdaBoost  GridSearchCV(estimator=AdaBoostClassifier(),\\n...   \n",
       "18     DTREE  GridSearchCV(estimator=DecisionTreeClassifier(...   \n",
       "12     DTREE  GridSearchCV(estimator=DecisionTreeClassifier(...   \n",
       "0      DTREE  GridSearchCV(estimator=DecisionTreeClassifier(...   \n",
       "6      DTREE  GridSearchCV(estimator=DecisionTreeClassifier(...   \n",
       "8        KNN  GridSearchCV(estimator=KNeighborsClassifier(),...   \n",
       "14       KNN  GridSearchCV(estimator=KNeighborsClassifier(),...   \n",
       "20       KNN  GridSearchCV(estimator=KNeighborsClassifier(),...   \n",
       "2        KNN  GridSearchCV(estimator=KNeighborsClassifier(),...   \n",
       "16        RF  GridSearchCV(estimator=RandomForestClassifier(...   \n",
       "10        RF  GridSearchCV(estimator=RandomForestClassifier(...   \n",
       "22        RF  GridSearchCV(estimator=RandomForestClassifier(...   \n",
       "4         RF  GridSearchCV(estimator=RandomForestClassifier(...   \n",
       "13       SVC  GridSearchCV(estimator=SVC(), param_grid={'C':...   \n",
       "7        SVC  GridSearchCV(estimator=SVC(), param_grid={'C':...   \n",
       "1        SVC  GridSearchCV(estimator=SVC(), param_grid={'C':...   \n",
       "19       SVC  GridSearchCV(estimator=SVC(), param_grid={'C':...   \n",
       "23     logic  GridSearchCV(estimator=LogisticRegression(),\\n...   \n",
       "17     logic  GridSearchCV(estimator=LogisticRegression(),\\n...   \n",
       "5      logic  GridSearchCV(estimator=LogisticRegression(),\\n...   \n",
       "11     logic  GridSearchCV(estimator=LogisticRegression(),\\n...   \n",
       "\n",
       "                                       处理方式      最佳得分  \\\n",
       "15  3_1_2方式处理：AGE全局平均值填充 + onehot + Z-Score  0.804181   \n",
       "21  3_2_2方式处理：AGE称谓平均值填充 + onehot + Z-Score  0.813884   \n",
       "9    3_2_1方式处理：AGE称谓平均值填充 + onehot + minmax  0.813858   \n",
       "3    3_1_1方式处理：AGE全局平均值填充 + onehot + minmax  0.807368   \n",
       "18  3_2_2方式处理：AGE称谓平均值填充 + onehot + Z-Score  0.797781   \n",
       "12  3_1_2方式处理：AGE全局平均值填充 + onehot + Z-Score  0.775239   \n",
       "0    3_1_1方式处理：AGE全局平均值填充 + onehot + minmax  0.759123   \n",
       "6    3_2_1方式处理：AGE称谓平均值填充 + onehot + minmax  0.785006   \n",
       "8    3_2_1方式处理：AGE称谓平均值填充 + onehot + minmax  0.820258   \n",
       "14  3_1_2方式处理：AGE全局平均值填充 + onehot + Z-Score  0.831458   \n",
       "20  3_2_2方式处理：AGE称谓平均值填充 + onehot + Z-Score  0.826697   \n",
       "2    3_1_1方式处理：AGE全局平均值填充 + onehot + minmax  0.815381   \n",
       "16  3_1_2方式处理：AGE全局平均值填充 + onehot + Z-Score  0.823445   \n",
       "10   3_2_1方式处理：AGE称谓平均值填充 + onehot + minmax  0.805871   \n",
       "22  3_2_2方式处理：AGE称谓平均值填充 + onehot + Z-Score  0.828323   \n",
       "4    3_1_1方式处理：AGE全局平均值填充 + onehot + minmax  0.807342   \n",
       "13  3_1_2方式处理：AGE全局平均值填充 + onehot + Z-Score  0.831445   \n",
       "7    3_2_1方式处理：AGE称谓平均值填充 + onehot + minmax  0.842723   \n",
       "1    3_1_1方式处理：AGE全局平均值填充 + onehot + minmax  0.831458   \n",
       "19  3_2_2方式处理：AGE称谓平均值填充 + onehot + Z-Score  0.837935   \n",
       "23  3_2_2方式处理：AGE称谓平均值填充 + onehot + Z-Score  0.836335   \n",
       "17  3_1_2方式处理：AGE全局平均值填充 + onehot + Z-Score  0.826671   \n",
       "5    3_1_1方式处理：AGE全局平均值填充 + onehot + minmax  0.821806   \n",
       "11   3_2_1方式处理：AGE称谓平均值填充 + onehot + minmax  0.839471   \n",
       "\n",
       "                        最佳参数  K折交叉验证得分  最佳模型AUC面积  \n",
       "15      {'n_estimators': 40}     80.90   0.788291  \n",
       "21      {'n_estimators': 40}     81.39   0.790764  \n",
       "9       {'n_estimators': 43}     82.35   0.807224  \n",
       "3       {'n_estimators': 41}     80.56   0.811548  \n",
       "18  {'criterion': 'entropy'}     78.79   0.725076  \n",
       "12  {'criterion': 'entropy'}     76.42   0.749485  \n",
       "0   {'criterion': 'entropy'}     78.31   0.771667  \n",
       "6      {'criterion': 'gini'}     77.22   0.775114  \n",
       "8         {'n_neighbors': 4}     82.35   0.766978  \n",
       "14        {'n_neighbors': 5}     82.52   0.770697  \n",
       "20        {'n_neighbors': 5}     82.36   0.779700  \n",
       "2         {'n_neighbors': 4}     81.04   0.792262  \n",
       "16      {'n_estimators': 95}     81.72   0.759812  \n",
       "10      {'n_estimators': 94}     80.27   0.787433  \n",
       "22      {'n_estimators': 98}     81.71   0.790589  \n",
       "4       {'n_estimators': 98}     79.60   0.797619  \n",
       "13                  {'C': 2}     83.47   0.771874  \n",
       "7                   {'C': 3}     84.11   0.776153  \n",
       "1                   {'C': 2}     83.77   0.791190  \n",
       "19                  {'C': 1}     83.95   0.793676  \n",
       "23                {'C': 0.1}     84.12   0.796937  \n",
       "17                 {'C': 10}     82.83   0.808914  \n",
       "5                   {'C': 1}     82.33   0.813452  \n",
       "11                 {'C': 10}     83.32   0.819543  "
      ]
     },
     "execution_count": 46,
     "metadata": {},
     "output_type": "execute_result"
    }
   ],
   "source": [
    "score_df.sort_values(['name','最佳模型AUC面积'])"
   ]
  },
  {
   "cell_type": "code",
   "execution_count": 47,
   "metadata": {},
   "outputs": [],
   "source": [
    "best_model = score_df.sort_values(['最佳模型AUC面积'])['model'].tolist()[-1].best_estimator_"
   ]
  },
  {
   "cell_type": "code",
   "execution_count": 48,
   "metadata": {},
   "outputs": [
    {
     "name": "stdout",
     "output_type": "stream",
     "text": [
      "Your submission was successfully saved!\n"
     ]
    }
   ],
   "source": [
    "predictions = best_model.predict(data_test_features_scaler_3_2_2)\n",
    "\n",
    "output = pd.DataFrame({'PassengerId': data_test.PassengerId, 'Survived': predictions})\n",
    "output.to_csv('submission.csv', index=False)\n",
    "print(\"Your submission was successfully saved!\")"
   ]
  },
  {
   "cell_type": "code",
   "execution_count": null,
   "metadata": {},
   "outputs": [],
   "source": []
  },
  {
   "cell_type": "code",
   "execution_count": null,
   "metadata": {},
   "outputs": [],
   "source": []
  },
  {
   "cell_type": "code",
   "execution_count": null,
   "metadata": {},
   "outputs": [],
   "source": []
  },
  {
   "cell_type": "code",
   "execution_count": null,
   "metadata": {},
   "outputs": [],
   "source": []
  },
  {
   "cell_type": "code",
   "execution_count": null,
   "metadata": {},
   "outputs": [],
   "source": []
  },
  {
   "cell_type": "code",
   "execution_count": null,
   "metadata": {},
   "outputs": [],
   "source": []
  },
  {
   "cell_type": "code",
   "execution_count": null,
   "metadata": {},
   "outputs": [],
   "source": []
  },
  {
   "cell_type": "code",
   "execution_count": null,
   "metadata": {},
   "outputs": [],
   "source": []
  },
  {
   "cell_type": "code",
   "execution_count": null,
   "metadata": {},
   "outputs": [],
   "source": []
  },
  {
   "cell_type": "code",
   "execution_count": null,
   "metadata": {},
   "outputs": [],
   "source": []
  },
  {
   "cell_type": "code",
   "execution_count": null,
   "metadata": {},
   "outputs": [],
   "source": []
  },
  {
   "cell_type": "code",
   "execution_count": null,
   "metadata": {},
   "outputs": [],
   "source": []
  },
  {
   "cell_type": "code",
   "execution_count": null,
   "metadata": {},
   "outputs": [],
   "source": []
  },
  {
   "cell_type": "code",
   "execution_count": null,
   "metadata": {},
   "outputs": [],
   "source": []
  },
  {
   "cell_type": "code",
   "execution_count": null,
   "metadata": {},
   "outputs": [],
   "source": []
  },
  {
   "cell_type": "code",
   "execution_count": null,
   "metadata": {},
   "outputs": [],
   "source": []
  },
  {
   "cell_type": "code",
   "execution_count": null,
   "metadata": {},
   "outputs": [],
   "source": []
  },
  {
   "cell_type": "code",
   "execution_count": null,
   "metadata": {},
   "outputs": [],
   "source": []
  },
  {
   "cell_type": "code",
   "execution_count": null,
   "metadata": {},
   "outputs": [],
   "source": []
  },
  {
   "cell_type": "code",
   "execution_count": null,
   "metadata": {},
   "outputs": [],
   "source": []
  },
  {
   "cell_type": "code",
   "execution_count": null,
   "metadata": {},
   "outputs": [],
   "source": []
  },
  {
   "cell_type": "code",
   "execution_count": null,
   "metadata": {},
   "outputs": [],
   "source": []
  },
  {
   "cell_type": "code",
   "execution_count": null,
   "metadata": {},
   "outputs": [],
   "source": []
  },
  {
   "cell_type": "code",
   "execution_count": null,
   "metadata": {},
   "outputs": [],
   "source": []
  },
  {
   "cell_type": "code",
   "execution_count": null,
   "metadata": {},
   "outputs": [],
   "source": []
  },
  {
   "cell_type": "code",
   "execution_count": null,
   "metadata": {},
   "outputs": [],
   "source": []
  },
  {
   "cell_type": "code",
   "execution_count": null,
   "metadata": {},
   "outputs": [],
   "source": []
  },
  {
   "cell_type": "code",
   "execution_count": null,
   "metadata": {},
   "outputs": [],
   "source": []
  }
 ],
 "metadata": {
  "kernelspec": {
   "display_name": "Python 3",
   "language": "python",
   "name": "python3"
  },
  "language_info": {
   "codemirror_mode": {
    "name": "ipython",
    "version": 3
   },
   "file_extension": ".py",
   "mimetype": "text/x-python",
   "name": "python",
   "nbconvert_exporter": "python",
   "pygments_lexer": "ipython3",
   "version": "3.6.5"
  }
 },
 "nbformat": 4,
 "nbformat_minor": 2
}
